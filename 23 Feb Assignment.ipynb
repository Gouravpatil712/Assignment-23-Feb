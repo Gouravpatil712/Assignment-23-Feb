{
 "cells": [
  {
   "cell_type": "markdown",
   "id": "80b34e8e-b53d-402d-b7c6-c6ab07c09a53",
   "metadata": {},
   "source": [
    "## Question 01 - Create a Pandas Series that contains the following data: 4, 8, 15, 16, 23, and 42. Then, print the series."
   ]
  },
  {
   "cell_type": "code",
   "execution_count": 1,
   "id": "4e2e5dac-2203-4bf8-896a-97558a0f2e08",
   "metadata": {},
   "outputs": [
    {
     "name": "stdout",
     "output_type": "stream",
     "text": [
      "0     4\n",
      "1     8\n",
      "2    15\n",
      "3    16\n",
      "4    23\n",
      "5    42\n",
      "dtype: int64\n"
     ]
    }
   ],
   "source": [
    "## Answer :- \n",
    "\n",
    "import pandas as pd\n",
    "\n",
    "# create a Pandas Series\n",
    "series = pd.Series([4, 8, 15, 16, 23, 42])\n",
    "\n",
    "# print the Series\n",
    "print(series)\n"
   ]
  },
  {
   "cell_type": "markdown",
   "id": "d4662d9c-7804-4073-b642-8b190c8a9adb",
   "metadata": {},
   "source": [
    "In the above example, we first imported the Pandas library and then created a Series using the pd.Series() method. We passed the data [4, 8, 15, 16, 23, 42] as an argument to create the Series. Finally, we printed the Series using the print() function."
   ]
  },
  {
   "cell_type": "markdown",
   "id": "b3d512bf-94a5-4409-96c1-439914f6e65c",
   "metadata": {},
   "source": [
    "## Question 02 - Q2. Create a variable of list type containing 10 elements in it, and apply pandas.Series function on the variable print it."
   ]
  },
  {
   "cell_type": "code",
   "execution_count": 2,
   "id": "befa0a44-7504-47c5-9012-aa10aeacc04f",
   "metadata": {},
   "outputs": [
    {
     "name": "stdout",
     "output_type": "stream",
     "text": [
      "0     1\n",
      "1     2\n",
      "2     3\n",
      "3     4\n",
      "4     5\n",
      "5     6\n",
      "6     7\n",
      "7     8\n",
      "8     9\n",
      "9    10\n",
      "dtype: int64\n"
     ]
    }
   ],
   "source": [
    "# Answer :- \n",
    "\n",
    "import pandas as pd\n",
    "\n",
    "# create a list containing 10 elements\n",
    "my_list = [1, 2, 3, 4, 5, 6, 7, 8, 9, 10]\n",
    "\n",
    "# create a Pandas Series from the list\n",
    "my_series = pd.Series(my_list)\n",
    "\n",
    "# print the Series\n",
    "print(my_series)\n"
   ]
  },
  {
   "cell_type": "markdown",
   "id": "d5df70be-d991-4e91-9df5-be0797bc996f",
   "metadata": {},
   "source": [
    "# Question 03 - Create a Pandas DataFrame that contains the following data:"
   ]
  },
  {
   "cell_type": "code",
   "execution_count": 4,
   "id": "25213604-fdf7-45bf-af2a-b03f7954bdaf",
   "metadata": {},
   "outputs": [],
   "source": [
    "# Answer :-\n",
    "\n",
    "import pandas as pd\n",
    "\n",
    "data = {'Name': ['Alice', 'Bob', 'Claire'],\n",
    "        'Age': [25, 30, 27],\n",
    "        'Gender': ['Female', 'Male', 'Female']}\n",
    "\n"
   ]
  },
  {
   "cell_type": "code",
   "execution_count": 5,
   "id": "9ee91c6e-bb22-497c-adf0-848aba29a43b",
   "metadata": {},
   "outputs": [],
   "source": [
    "df = pd.DataFrame(data)"
   ]
  },
  {
   "cell_type": "code",
   "execution_count": 6,
   "id": "74766f8a-7eaa-4c1c-826c-859f51a8fcb9",
   "metadata": {},
   "outputs": [
    {
     "data": {
      "text/html": [
       "<div>\n",
       "<style scoped>\n",
       "    .dataframe tbody tr th:only-of-type {\n",
       "        vertical-align: middle;\n",
       "    }\n",
       "\n",
       "    .dataframe tbody tr th {\n",
       "        vertical-align: top;\n",
       "    }\n",
       "\n",
       "    .dataframe thead th {\n",
       "        text-align: right;\n",
       "    }\n",
       "</style>\n",
       "<table border=\"1\" class=\"dataframe\">\n",
       "  <thead>\n",
       "    <tr style=\"text-align: right;\">\n",
       "      <th></th>\n",
       "      <th>Name</th>\n",
       "      <th>Age</th>\n",
       "      <th>Gender</th>\n",
       "    </tr>\n",
       "  </thead>\n",
       "  <tbody>\n",
       "    <tr>\n",
       "      <th>0</th>\n",
       "      <td>Alice</td>\n",
       "      <td>25</td>\n",
       "      <td>Female</td>\n",
       "    </tr>\n",
       "    <tr>\n",
       "      <th>1</th>\n",
       "      <td>Bob</td>\n",
       "      <td>30</td>\n",
       "      <td>Male</td>\n",
       "    </tr>\n",
       "    <tr>\n",
       "      <th>2</th>\n",
       "      <td>Claire</td>\n",
       "      <td>27</td>\n",
       "      <td>Female</td>\n",
       "    </tr>\n",
       "  </tbody>\n",
       "</table>\n",
       "</div>"
      ],
      "text/plain": [
       "     Name  Age  Gender\n",
       "0   Alice   25  Female\n",
       "1     Bob   30    Male\n",
       "2  Claire   27  Female"
      ]
     },
     "execution_count": 6,
     "metadata": {},
     "output_type": "execute_result"
    }
   ],
   "source": [
    "df"
   ]
  },
  {
   "cell_type": "markdown",
   "id": "eb2dd63e-d2a5-45f0-a803-6dc1e30077dd",
   "metadata": {},
   "source": [
    "## Question 04 - What is ‘DataFrame’ in pandas and how is it different from pandas.series? Explain with an example."
   ]
  },
  {
   "cell_type": "markdown",
   "id": "cbd51e26-b768-4793-aa53-2b8c0117b2a6",
   "metadata": {},
   "source": [
    "# Answer :-\n",
    "\n",
    "In pandas, a DataFrame is a 2-dimensional labeled data structure with columns of potentially different types. It is similar to a spreadsheet or a SQL table, where each column can have a unique data type and can contain multiple rows of data.\n",
    "\n",
    "On the other hand, a pandas Series is a one-dimensional labeled array that can contain any data type, such as integers, floats, strings, and even other objects. It can be thought of as a single column of data from a DataFrame."
   ]
  },
  {
   "cell_type": "code",
   "execution_count": 8,
   "id": "78f6c102-a7df-450a-aed9-93fb7af54717",
   "metadata": {},
   "outputs": [
    {
     "name": "stdout",
     "output_type": "stream",
     "text": [
      "      Name  Age Occupation\n",
      "0   Gourav   25   Engineer\n",
      "1    Rotit   30     Doctor\n",
      "2  Devansh   35    Teacher\n",
      "3     Ajay   40     Lawyer\n"
     ]
    }
   ],
   "source": [
    "import pandas as pd\n",
    "\n",
    "# create a dictionary of data for a DataFrame\n",
    "data = {'Name': ['Gourav', 'Rotit', 'Devansh', 'Ajay'],\n",
    "        'Age': [25, 30, 35, 40],\n",
    "        'Occupation': ['Engineer', 'Doctor', 'Teacher', 'Lawyer']}\n",
    "\n",
    "# create a DataFrame from the dictionary\n",
    "df = pd.DataFrame(data)\n",
    "\n",
    "# print the DataFrame\n",
    "print(df)\n"
   ]
  },
  {
   "cell_type": "code",
   "execution_count": 9,
   "id": "177c56f1-b8da-4bc5-9605-0b176d426378",
   "metadata": {},
   "outputs": [
    {
     "name": "stdout",
     "output_type": "stream",
     "text": [
      "0     Gourav\n",
      "1      Rotit\n",
      "2    Devansh\n",
      "3       Ajay\n",
      "Name: Name, dtype: object\n"
     ]
    }
   ],
   "source": [
    "# create a Series from the 'Name' column of the DataFrame\n",
    "name_series = df['Name']\n",
    "\n",
    "# print the Series\n",
    "print(name_series)"
   ]
  },
  {
   "cell_type": "markdown",
   "id": "0e5fbfd0-6a59-4c5f-bc55-acb7247b48d6",
   "metadata": {},
   "source": [
    "In this example, we first create a dictionary of data for a DataFrame. We then use this dictionary to create a DataFrame using the pd.DataFrame() function. The resulting DataFrame has 3 columns ('Name', 'Age', 'Occupation') and 4 rows of data.\n",
    "\n",
    "Next, we create a Series by extracting the 'Name' column from the DataFrame using the indexing operator []. The resulting Series contains only the 'Name' column data from the original DataFrame and has the same number of rows as the original DataFrame.\n",
    "\n",
    "So, in summary, a DataFrame is a 2-dimensional data structure with multiple columns of potentially different data types, while a Series is a 1-dimensional data structure with a single column of data."
   ]
  },
  {
   "cell_type": "markdown",
   "id": "9a077bcf-bfe5-4459-a440-fa8ba5970744",
   "metadata": {},
   "source": [
    "## Question 05 - What are some common functions you can use to manipulate data in a Pandas DataFrame? Can you give an example of when you might use one of these functions?"
   ]
  },
  {
   "cell_type": "markdown",
   "id": "a3e2361b-db69-43e0-af2b-437ac028d15f",
   "metadata": {},
   "source": [
    "# Answer :-\n",
    "\n",
    "Pandas DataFrame offers many built-in functions to manipulate data, some of which are:\n",
    "\n",
    "1. merge(): to combine two data frames using a common key.\n",
    "Example: When you have two different datasets with a common column, such as an ID, you can use merge() function to join them into a single dataset.\n",
    "\n",
    "2. groupby(): to group rows of a DataFrame based on the values in one or more columns and perform aggregate functions on them.\n",
    "Example: When you want to calculate the average salary of employees by department, you can use groupby() function to group the employees by department and then calculate the mean salary.\n",
    "\n",
    "3. apply(): to apply a function to each element of a DataFrame.\n",
    "Example: When you want to convert all the values of a column to uppercase, you can use apply() function with the upper() method.\n",
    "\n",
    "4. pivot_table(): to create a spreadsheet-style pivot table as a DataFrame.\n",
    "Example: When you want to summarize data and show the relationship between two columns, you can use pivot_table() function to create a pivot table.\n",
    "\n",
    "5. fillna(): to fill missing values in a DataFrame with a specified value or method.\n",
    "Example: When you have missing data in a dataset, you can use fillna() function to fill the missing values with the mean, median, or any other method of your choice."
   ]
  },
  {
   "cell_type": "markdown",
   "id": "c72d2570-11d7-4f5c-ad07-3e21c21e9632",
   "metadata": {},
   "source": [
    "## Question 06 - Which of the following is mutable in nature Series, DataFrame, Panel?"
   ]
  },
  {
   "cell_type": "markdown",
   "id": "ed39d542-256c-4695-b03d-9d8a20d52242",
   "metadata": {},
   "source": [
    "# Answer :- \n",
    "\n",
    "Both Series and DataFrame are mutable in nature, while Panel is considered deprecated and no longer recommended for use.\n",
    "\n",
    "In pandas, mutability means that the data can be modified after it has been created. Both Series and DataFrame can be modified by assigning new values or adding/deleting rows or columns. For example, you can add a new column to a DataFrame by assigning a new Series to it:"
   ]
  },
  {
   "cell_type": "code",
   "execution_count": 10,
   "id": "593febd6-d780-41d8-8d15-076186f25a54",
   "metadata": {},
   "outputs": [],
   "source": [
    "import pandas as pd\n",
    "\n",
    "data = {'name': ['Gourav', 'Khushi', 'Ajay'], 'age': [25, 30, 35]}\n",
    "df = pd.DataFrame(data)\n",
    "\n",
    "# add a new column\n",
    "df['gender'] = ['male', 'female', 'male']\n",
    "\n",
    "# modify a value\n",
    "df.at[1, 'age'] = 31\n",
    "\n",
    "# delete a row\n",
    "df = df.drop(2)\n"
   ]
  },
  {
   "cell_type": "code",
   "execution_count": 14,
   "id": "a95a0cd9-3efe-4ea5-8005-267e5a725f95",
   "metadata": {},
   "outputs": [
    {
     "name": "stdout",
     "output_type": "stream",
     "text": [
      "     Name  Age  Gender\n",
      "0    Niku   25  Female\n",
      "1  Gourav   30    Male\n",
      "2  Gunjan   27  Female\n"
     ]
    }
   ],
   "source": [
    "print(df)"
   ]
  },
  {
   "cell_type": "markdown",
   "id": "70bbb686-d238-411b-ad54-9523e736a6fb",
   "metadata": {},
   "source": [
    "In the above example, we add a new column called 'gender' by assigning a new Series to it. We modify the age of the second row by using the .at method to access a specific value. Finally, we delete the third row using the .drop method."
   ]
  },
  {
   "cell_type": "markdown",
   "id": "1d91eb6a-f117-4401-bf9c-4173a59af17b",
   "metadata": {},
   "source": [
    "## Question 07 - Create a DataFrame using multiple Series. Explain with an example."
   ]
  },
  {
   "cell_type": "code",
   "execution_count": 12,
   "id": "2b537b6a-646f-4531-b687-d1b1882b7d68",
   "metadata": {},
   "outputs": [],
   "source": [
    "# Answer :-\n",
    "\n",
    "# To create a DataFrame using multiple Series, we can pass a dictionary of Series to the pd.DataFrame() constructor. Each Series becomes a column in the resulting DataFrame.\n",
    "\n",
    "import pandas as pd\n",
    "\n",
    "# create Series for each column\n",
    "names = pd.Series(['Niku', 'Gourav', 'Gunjan'])\n",
    "ages = pd.Series([25, 30, 27])\n",
    "genders = pd.Series(['Female', 'Male', 'Female'])\n"
   ]
  },
  {
   "cell_type": "code",
   "execution_count": 13,
   "id": "380a72c9-85bb-421c-9d90-be78d8c395b4",
   "metadata": {},
   "outputs": [
    {
     "name": "stdout",
     "output_type": "stream",
     "text": [
      "     Name  Age  Gender\n",
      "0    Niku   25  Female\n",
      "1  Gourav   30    Male\n",
      "2  Gunjan   27  Female\n"
     ]
    }
   ],
   "source": [
    "# create DataFrame using the Series\n",
    "df = pd.DataFrame({'Name': names, 'Age': ages, 'Gender': genders})\n",
    "\n",
    "# print the DataFrame\n",
    "print(df)"
   ]
  },
  {
   "cell_type": "markdown",
   "id": "dea16ae0-f0d4-4c3a-a2cc-5e4f8ab91ab0",
   "metadata": {},
   "source": [
    "In this example, we create three Series for the columns \"Name\", \"Age\", and \"Gender\". We then pass a dictionary containing these Series to the pd.DataFrame() constructor, which creates a DataFrame with these columns."
   ]
  },
  {
   "cell_type": "code",
   "execution_count": null,
   "id": "04b5f370-e608-4277-a70f-5f495695dee1",
   "metadata": {},
   "outputs": [],
   "source": []
  }
 ],
 "metadata": {
  "kernelspec": {
   "display_name": "Python 3 (ipykernel)",
   "language": "python",
   "name": "python3"
  },
  "language_info": {
   "codemirror_mode": {
    "name": "ipython",
    "version": 3
   },
   "file_extension": ".py",
   "mimetype": "text/x-python",
   "name": "python",
   "nbconvert_exporter": "python",
   "pygments_lexer": "ipython3",
   "version": "3.10.8"
  }
 },
 "nbformat": 4,
 "nbformat_minor": 5
}
